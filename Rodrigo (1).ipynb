{
 "cells": [
  {
   "cell_type": "markdown",
   "id": "7066d2a7-bfe0-4728-b8fd-bc9da35f3ad3",
   "metadata": {},
   "source": [
    "# Rodrigo Notebook\n"
   ]
  },
  {
   "cell_type": "code",
   "execution_count": 5,
   "id": "01592b71-fb4e-4722-bde9-36d85d1e0a7d",
   "metadata": {
    "tags": []
   },
   "outputs": [],
   "source": [
    "# Introduction"
   ]
  },
  {
   "cell_type": "code",
   "execution_count": 7,
   "id": "e2015d07-8e01-42ee-bd9c-81c635332533",
   "metadata": {
    "tags": []
   },
   "outputs": [],
   "source": [
    "## Data Science Languages\n",
    "\n",
    "#Here are some popular languages used in data science:\n",
    "\n",
    "#- Python\n",
    "#- R\n",
    "#- SQL\n",
    "#- Julia\n",
    "#- MATLAB\n",
    "#- SAS\n"
   ]
  },
  {
   "cell_type": "code",
   "execution_count": 8,
   "id": "1ee2dcb3-3606-467a-9ee2-b361f36b1b89",
   "metadata": {
    "tags": []
   },
   "outputs": [],
   "source": [
    "## Data Science Libraries\n",
    "\n",
    "#Here are some popular libraries used in data science:\n",
    "\n",
    "#- NumPy\n",
    "#- Pandas\n",
    "#- Matplotlib\n",
    "#- Scikit-learn\n",
    "#- TensorFlow\n",
    "#- PyTorch\n"
   ]
  },
  {
   "cell_type": "code",
   "execution_count": 9,
   "id": "3a3e6272-be34-4f1d-ba7e-076012787381",
   "metadata": {
    "tags": []
   },
   "outputs": [],
   "source": [
    "## Data Science Tools\n",
    "\n",
    "#| Tool          | Description           |\n",
    "#| ------------- |:-------------:|\n",
    "#| Python       | General-purpose programming language with a large variety of libraries for data science |\n",
    "#| R            | Statistical computing language with a focus on data analysis and visualization |\n",
    "#| SQL          | Domain-specific language for managing and querying relational databases |\n",
    "#| SAS          | Suite of analytics tools for data management, analysis, and visualization |\n",
    "#| Tableau      | Data visualization and business intelligence software |\n",
    "#| Excel        | Spreadsheet software with basic data analysis and visualization capabilities |\n"
   ]
  },
  {
   "cell_type": "code",
   "execution_count": 10,
   "id": "1940c39e-255f-4794-9b23-9e2513842545",
   "metadata": {
    "tags": []
   },
   "outputs": [],
   "source": [
    "## Arithmetic Expressions\n",
    "\n",
    "# Arithmetic expressions are used to perform mathematical calculations. \n",
    "# These expressions can include addition, subtraction, multiplication, and division.\n",
    "\n",
    "\n",
    "#The first four expressions represent addition, subtraction, multiplication, and division, respectively. \n",
    "# The fifth expression uses the exponentiation operator to raise 2 to the power of 3, while the sixth expression uses the modulus operator to find the remainder of 18 divided by 5.\n",
    "\n",
    "#You can use these and other arithmetic expressions in your Python code to perform mathematical calculations.\n",
    "\n",
    "\n"
   ]
  },
  {
   "cell_type": "code",
   "execution_count": 11,
   "id": "5936d79b-8db5-4cdc-a213-88dec60171b1",
   "metadata": {
    "tags": []
   },
   "outputs": [],
   "source": [
    "## Objectives\n",
    "\n",
    "#The objectives of this notebook are to:\n",
    "\n",
    "# Introduce basic arithmetic expressions in Python\n",
    "# Demonstrate how to perform mathematical operations using variables and operators\n",
    "# Show how to convert minutes to hours using Python\n",
    "# Provide examples of data science languages, libraries, and tools\n",
    "\n",
    "\n"
   ]
  },
  {
   "cell_type": "code",
   "execution_count": 13,
   "id": "f7262ccf-4560-4125-9a3f-ef004b7a1d64",
   "metadata": {
    "tags": []
   },
   "outputs": [],
   "source": [
    "## Author\n",
    "\n",
    "#This notebook was created by Rodrigo Marins Paschoal\n"
   ]
  },
  {
   "cell_type": "code",
   "execution_count": null,
   "id": "ac6e2ebf-e95b-40e0-97a7-04f3e86c41f2",
   "metadata": {},
   "outputs": [],
   "source": []
  }
 ],
 "metadata": {
  "kernelspec": {
   "display_name": "Python",
   "language": "python",
   "name": "conda-env-python-py"
  },
  "language_info": {
   "codemirror_mode": {
    "name": "ipython",
    "version": 3
   },
   "file_extension": ".py",
   "mimetype": "text/x-python",
   "name": "python",
   "nbconvert_exporter": "python",
   "pygments_lexer": "ipython3",
   "version": "3.7.12"
  }
 },
 "nbformat": 4,
 "nbformat_minor": 5
}
